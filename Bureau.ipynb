{
  "nbformat": 4,
  "nbformat_minor": 0,
  "metadata": {
    "colab": {
      "provenance": []
    },
    "kernelspec": {
      "name": "python3",
      "display_name": "Python 3"
    },
    "language_info": {
      "name": "python"
    }
  },
  "cells": [
    {
      "cell_type": "code",
      "source": [
        "from google.colab import drive\n",
        "drive.mount('/content/drive')"
      ],
      "metadata": {
        "colab": {
          "base_uri": "https://localhost:8080/"
        },
        "id": "zIH-JnzgSjGH",
        "outputId": "70222043-0181-4939-dd88-6610f3950020"
      },
      "execution_count": null,
      "outputs": [
        {
          "output_type": "stream",
          "name": "stdout",
          "text": [
            "Mounted at /content/drive\n"
          ]
        }
      ]
    },
    {
      "cell_type": "code",
      "source": [
        "import pandas as pd\n",
        "\n",
        "# Load the datasets\n",
        "train_data = pd.read_csv('/content/drive/MyDrive/Datasets/Assignment_Train.csv')\n",
        "test_data = pd.read_csv('/content/drive/MyDrive/Datasets/Assignment_Test.csv')\n",
        "\n",
        "# Display basic information\n",
        "print(\"Training Data Info:\")\n",
        "print(train_data.info())\n",
        "print(\"First few rows of Training Data:\")\n",
        "print(train_data.head())\n",
        "\n",
        "print(\"\\nTest Data Info:\")\n",
        "print(test_data.info())\n",
        "print(\"First few rows of Test Data:\")\n",
        "print(test_data.head())\n"
      ],
      "metadata": {
        "colab": {
          "base_uri": "https://localhost:8080/"
        },
        "id": "2J9hwD_9cHpU",
        "outputId": "a4e7ad6f-39fa-42c1-edcb-82a40a464c2f"
      },
      "execution_count": 35,
      "outputs": [
        {
          "output_type": "stream",
          "name": "stdout",
          "text": [
            "Training Data Info:\n",
            "<class 'pandas.core.frame.DataFrame'>\n",
            "RangeIndex: 10000 entries, 0 to 9999\n",
            "Data columns (total 55 columns):\n",
            " #   Column                               Non-Null Count  Dtype  \n",
            "---  ------                               --------------  -----  \n",
            " 0   DEALER ID                            10000 non-null  int64  \n",
            " 1   APPLICATION LOGIN DATE               10000 non-null  object \n",
            " 2   HDB BRANCH NAME                      9999 non-null   object \n",
            " 3   HDB BRANCH STATE                     9146 non-null   object \n",
            " 4   FIRST NAME                           10000 non-null  object \n",
            " 5   MIDDLE NAME                          2855 non-null   object \n",
            " 6   LAST NAME                            9319 non-null   object \n",
            " 7   mobile                               10000 non-null  int64  \n",
            " 8   AADHAR VERIFIED                      10000 non-null  object \n",
            " 9   Cibil Score                          5703 non-null   object \n",
            " 10  MOBILE VERIFICATION                  10000 non-null  bool   \n",
            " 11  DEALER NAME                          9996 non-null   object \n",
            " 12  TOTAL ASSET COST                     4892 non-null   float64\n",
            " 13  ASSET CTG                            4892 non-null   object \n",
            " 14  ASSET MODEL NO                       10000 non-null  int64  \n",
            " 15  APPLIED AMOUNT                       10000 non-null  int64  \n",
            " 16  PRIMARY ASSET MAKE                   10000 non-null  object \n",
            " 17  Primary Asset Model No               10000 non-null  object \n",
            " 18  Personal Email Address               10000 non-null  object \n",
            " 19  MARITAL STATUS                       5106 non-null   object \n",
            " 20  GENDER                               10000 non-null  object \n",
            " 21  DOB                                  10000 non-null  int64  \n",
            " 22  AGE                                  10000 non-null  int64  \n",
            " 23  ADDRESS TYPE                         6688 non-null   object \n",
            " 24  EMPLOY CONSTITUTION                  5002 non-null   object \n",
            " 25  EMPLOYER NAME                        4990 non-null   object \n",
            " 26  EMPLOYER TYPE                        5002 non-null   object \n",
            " 27  Pan Name                             8947 non-null   object \n",
            " 28  name                                 10000 non-null  object \n",
            " 29  vpa                                  7213 non-null   object \n",
            " 30  upi_name                             7211 non-null   object \n",
            " 31  Phone Social Premium.a23games        1 non-null      float64\n",
            " 32  Phone Social Premium.amazon          8084 non-null   float64\n",
            " 33  Phone Social Premium.byjus           8052 non-null   float64\n",
            " 34  Phone Social Premium.flipkart        8168 non-null   float64\n",
            " 35  Phone Social Premium.housing         8224 non-null   float64\n",
            " 36  Phone Social Premium.indiamart       8225 non-null   float64\n",
            " 37  Phone Social Premium.instagram       3370 non-null   float64\n",
            " 38  Phone Social Premium.isWABusiness    1573 non-null   float64\n",
            " 39  Phone Social Premium.jeevansaathi    8171 non-null   float64\n",
            " 40  Phone Social Premium.jiomart         410 non-null    float64\n",
            " 41  Phone Social Premium.microsoft       8128 non-null   float64\n",
            " 42  Phone Social Premium.my11            2 non-null      float64\n",
            " 43  Phone Social Premium.paytm           8243 non-null   float64\n",
            " 44  Phone Social Premium.rummycircle     1 non-null      float64\n",
            " 45  Phone Social Premium.shaadi          8221 non-null   float64\n",
            " 46  Phone Social Premium.skype           8215 non-null   float64\n",
            " 47  Phone Social Premium.toi             8057 non-null   float64\n",
            " 48  Phone Social Premium.whatsapp        1573 non-null   float64\n",
            " 49  Phone Social Premium.yatra           9 non-null      float64\n",
            " 50  Phone Social Premium.zoho            8218 non-null   float64\n",
            " 51  phone_digitalage                     9996 non-null   float64\n",
            " 52  phone_nameMatchScore                 9996 non-null   float64\n",
            " 53  phone_phoneFootprintStrengthOverall  9994 non-null   object \n",
            " 54  Application Status                   10000 non-null  object \n",
            "dtypes: bool(1), float64(23), int64(6), object(25)\n",
            "memory usage: 4.1+ MB\n",
            "None\n",
            "First few rows of Training Data:\n",
            "   DEALER ID APPLICATION LOGIN DATE HDB BRANCH NAME HDB BRANCH STATE  \\\n",
            "0     106989             07/20/2022        DELHI-SF            DELHI   \n",
            "1     108975             07/28/2022        PATNA-SF            BIHAR   \n",
            "2     111004             07/15/2022   DARJEELING-SF      WEST BENGAL   \n",
            "3     192020               07/04/22   SAHARANPUR-SF    UTTAR PRADESH   \n",
            "4      55095             07/15/2022       MODASA-SF          GUJARAT   \n",
            "\n",
            "  FIRST NAME MIDDLE NAME  LAST NAME      mobile AADHAR VERIFIED Cibil Score  \\\n",
            "0      SUNIL         NaN    CHANDER  9210574080              NO         726   \n",
            "1      AMRIT         NaN      KUMAR  8877987018              NO         NaN   \n",
            "2    ANIMESH         NaN      THAPA  8910862135              NO         737   \n",
            "3     ADITYA         NaN      SINGH  9758428017              NO         713   \n",
            "4     PARMAR  HARESHBHAI  AMRUTBHAI  9687028486              NO         669   \n",
            "\n",
            "   ...  Phone Social Premium.shaadi Phone Social Premium.skype  \\\n",
            "0  ...                          0.0                        0.0   \n",
            "1  ...                          0.0                        0.0   \n",
            "2  ...                          0.0                        0.0   \n",
            "3  ...                          0.0                        0.0   \n",
            "4  ...                          0.0                        0.0   \n",
            "\n",
            "   Phone Social Premium.toi Phone Social Premium.whatsapp  \\\n",
            "0                       1.0                           NaN   \n",
            "1                       0.0                           NaN   \n",
            "2                       0.0                           NaN   \n",
            "3                       1.0                           NaN   \n",
            "4                       1.0                           NaN   \n",
            "\n",
            "   Phone Social Premium.yatra  Phone Social Premium.zoho phone_digitalage  \\\n",
            "0                         NaN                        0.0           5324.0   \n",
            "1                         NaN                        0.0           1998.0   \n",
            "2                         NaN                        0.0             -1.0   \n",
            "3                         NaN                        0.0           1998.0   \n",
            "4                         NaN                        0.0           1998.0   \n",
            "\n",
            "  phone_nameMatchScore phone_phoneFootprintStrengthOverall Application Status  \n",
            "0            67.222222                                High           APPROVED  \n",
            "1           100.000000                                High           APPROVED  \n",
            "2            -1.000000                                 Low           APPROVED  \n",
            "3            72.777778                                High           APPROVED  \n",
            "4            68.095238                                High           DECLINED  \n",
            "\n",
            "[5 rows x 55 columns]\n",
            "\n",
            "Test Data Info:\n",
            "<class 'pandas.core.frame.DataFrame'>\n",
            "RangeIndex: 2000 entries, 0 to 1999\n",
            "Data columns (total 55 columns):\n",
            " #   Column                               Non-Null Count  Dtype  \n",
            "---  ------                               --------------  -----  \n",
            " 0   UID                                  2000 non-null   int64  \n",
            " 1   DEALER ID                            2000 non-null   int64  \n",
            " 2   APPLICATION LOGIN DATE               2000 non-null   object \n",
            " 3   HDB BRANCH NAME                      2000 non-null   object \n",
            " 4   HDB BRANCH STATE                     1828 non-null   object \n",
            " 5   FIRST NAME                           2000 non-null   object \n",
            " 6   MIDDLE NAME                          595 non-null    object \n",
            " 7   LAST NAME                            1869 non-null   object \n",
            " 8   mobile                               2000 non-null   int64  \n",
            " 9   AADHAR VERIFIED                      2000 non-null   object \n",
            " 10  Cibil Score                          1158 non-null   object \n",
            " 11  MOBILE VERIFICATION                  2000 non-null   bool   \n",
            " 12  DEALER NAME                          2000 non-null   object \n",
            " 13  TOTAL ASSET COST                     978 non-null    float64\n",
            " 14  ASSET CTG                            978 non-null    object \n",
            " 15  ASSET MODEL NO                       2000 non-null   int64  \n",
            " 16  APPLIED AMOUNT                       2000 non-null   int64  \n",
            " 17  PRIMARY ASSET MAKE                   2000 non-null   object \n",
            " 18  Primary Asset Model No               2000 non-null   object \n",
            " 19  Personal Email Address               2000 non-null   object \n",
            " 20  MARITAL STATUS                       1019 non-null   object \n",
            " 21  GENDER                               2000 non-null   object \n",
            " 22  DOB                                  2000 non-null   int64  \n",
            " 23  AGE                                  2000 non-null   int64  \n",
            " 24  ADDRESS TYPE                         1365 non-null   object \n",
            " 25  EMPLOY CONSTITUTION                  1006 non-null   object \n",
            " 26  EMPLOYER NAME                        1005 non-null   object \n",
            " 27  EMPLOYER TYPE                        1006 non-null   object \n",
            " 28  Pan Name                             1791 non-null   object \n",
            " 29  name                                 2000 non-null   object \n",
            " 30  vpa                                  1446 non-null   object \n",
            " 31  upi_name                             1445 non-null   object \n",
            " 32  Phone Social Premium.a23games        0 non-null      float64\n",
            " 33  Phone Social Premium.amazon          1883 non-null   float64\n",
            " 34  Phone Social Premium.byjus           1977 non-null   float64\n",
            " 35  Phone Social Premium.flipkart        1955 non-null   float64\n",
            " 36  Phone Social Premium.housing         1977 non-null   float64\n",
            " 37  Phone Social Premium.indiamart       1977 non-null   float64\n",
            " 38  Phone Social Premium.instagram       612 non-null    float64\n",
            " 39  Phone Social Premium.isWABusiness    262 non-null    float64\n",
            " 40  Phone Social Premium.jeevansaathi    1962 non-null   float64\n",
            " 41  Phone Social Premium.jiomart         43 non-null     float64\n",
            " 42  Phone Social Premium.microsoft       1971 non-null   float64\n",
            " 43  Phone Social Premium.my11            0 non-null      float64\n",
            " 44  Phone Social Premium.paytm           1975 non-null   float64\n",
            " 45  Phone Social Premium.rummycircle     0 non-null      float64\n",
            " 46  Phone Social Premium.shaadi          1974 non-null   float64\n",
            " 47  Phone Social Premium.skype           1974 non-null   float64\n",
            " 48  Phone Social Premium.toi             1936 non-null   float64\n",
            " 49  Phone Social Premium.whatsapp        262 non-null    float64\n",
            " 50  Phone Social Premium.yatra           0 non-null      float64\n",
            " 51  Phone Social Premium.zoho            1977 non-null   float64\n",
            " 52  phone_digitalage                     2000 non-null   int64  \n",
            " 53  phone_nameMatchScore                 2000 non-null   float64\n",
            " 54  phone_phoneFootprintStrengthOverall  1999 non-null   object \n",
            "dtypes: bool(1), float64(22), int64(8), object(24)\n",
            "memory usage: 845.8+ KB\n",
            "None\n",
            "First few rows of Test Data:\n",
            "                   UID  DEALER ID APPLICATION LOGIN DATE HDB BRANCH NAME  \\\n",
            "0  1844045271814558464     105615               07/12/22        HUBLI-SF   \n",
            "1  1840349097823778816      91593             07/14/2022        SATNA-SF   \n",
            "2  1488102613362294272      74152               07/07/22      LUCKNOW-SF   \n",
            "3   555529923942874624     110164             07/13/2022       KOLLAM-SF   \n",
            "4  1010213070486150912     113037               07/08/22         PURI-SF   \n",
            "\n",
            "  HDB BRANCH STATE FIRST NAME MIDDLE NAME   LAST NAME      mobile  \\\n",
            "0              NaN  VENUGOPAL           H  BHARADHVAJ  7019759674   \n",
            "1   MADHYA PRADESH   SHIVDHAR         NaN   CHAUDHARY  7697884828   \n",
            "2    UTTAR PRADESH     MANISH         NaN       VERMA  8840079825   \n",
            "3           KERALA      DEEPU  RAVEENDRAN  RAVEENDRAN  8089276854   \n",
            "4           ORISSA     AKASHA         NaN     PRADHAN  9337511958   \n",
            "\n",
            "  AADHAR VERIFIED  ... Phone Social Premium.rummycircle  \\\n",
            "0              NO  ...                              NaN   \n",
            "1              NO  ...                              NaN   \n",
            "2              NO  ...                              NaN   \n",
            "3              NO  ...                              NaN   \n",
            "4              NO  ...                              NaN   \n",
            "\n",
            "   Phone Social Premium.shaadi Phone Social Premium.skype  \\\n",
            "0                          0.0                        0.0   \n",
            "1                          0.0                        0.0   \n",
            "2                          0.0                        1.0   \n",
            "3                          0.0                        0.0   \n",
            "4                          0.0                        0.0   \n",
            "\n",
            "   Phone Social Premium.toi Phone Social Premium.whatsapp  \\\n",
            "0                       0.0                           0.0   \n",
            "1                       NaN                           0.0   \n",
            "2                       0.0                           1.0   \n",
            "3                       0.0                           NaN   \n",
            "4                       0.0                           NaN   \n",
            "\n",
            "   Phone Social Premium.yatra  Phone Social Premium.zoho phone_digitalage  \\\n",
            "0                         NaN                        0.0              676   \n",
            "1                         NaN                        0.0              897   \n",
            "2                         NaN                        0.0              839   \n",
            "3                         NaN                        0.0             2050   \n",
            "4                         NaN                        0.0               -1   \n",
            "\n",
            "  phone_nameMatchScore phone_phoneFootprintStrengthOverall  \n",
            "0                100.0                              Medium  \n",
            "1                 -1.0                                 Low  \n",
            "2                100.0                              Medium  \n",
            "3                 -1.0                                 Low  \n",
            "4                 -1.0                            Very Low  \n",
            "\n",
            "[5 rows x 55 columns]\n"
          ]
        }
      ]
    },
    {
      "cell_type": "code",
      "source": [
        "# Print column names of the training and test datasets\n",
        "print(\"Columns in Training Data:\", train_data.columns)\n",
        "print(\"Columns in Test Data:\", test_data.columns)"
      ],
      "metadata": {
        "colab": {
          "base_uri": "https://localhost:8080/"
        },
        "id": "yAQQ_aiRcnBX",
        "outputId": "c3e9c3fa-9109-4b69-a9dd-82edab66ffc0"
      },
      "execution_count": 37,
      "outputs": [
        {
          "output_type": "stream",
          "name": "stdout",
          "text": [
            "Columns in Training Data: Index(['DEALER ID', 'APPLICATION LOGIN DATE', 'HDB BRANCH NAME',\n",
            "       'HDB BRANCH STATE', 'FIRST NAME', 'MIDDLE NAME', 'LAST NAME', 'mobile',\n",
            "       'AADHAR VERIFIED', 'Cibil Score', 'MOBILE VERIFICATION', 'DEALER NAME',\n",
            "       'TOTAL ASSET COST', 'ASSET CTG', 'ASSET MODEL NO', 'APPLIED AMOUNT',\n",
            "       'PRIMARY ASSET MAKE', 'Primary Asset Model No',\n",
            "       'Personal Email Address', 'MARITAL STATUS', 'GENDER', 'DOB', 'AGE',\n",
            "       'ADDRESS TYPE', 'EMPLOY CONSTITUTION', 'EMPLOYER NAME', 'EMPLOYER TYPE',\n",
            "       'Pan Name', 'name', 'vpa', 'upi_name', 'Phone Social Premium.a23games',\n",
            "       'Phone Social Premium.amazon', 'Phone Social Premium.byjus',\n",
            "       'Phone Social Premium.flipkart', 'Phone Social Premium.housing',\n",
            "       'Phone Social Premium.indiamart', 'Phone Social Premium.instagram',\n",
            "       'Phone Social Premium.isWABusiness',\n",
            "       'Phone Social Premium.jeevansaathi', 'Phone Social Premium.jiomart',\n",
            "       'Phone Social Premium.microsoft', 'Phone Social Premium.my11',\n",
            "       'Phone Social Premium.paytm', 'Phone Social Premium.rummycircle',\n",
            "       'Phone Social Premium.shaadi', 'Phone Social Premium.skype',\n",
            "       'Phone Social Premium.toi', 'Phone Social Premium.whatsapp',\n",
            "       'Phone Social Premium.yatra', 'Phone Social Premium.zoho',\n",
            "       'phone_digitalage', 'phone_nameMatchScore',\n",
            "       'phone_phoneFootprintStrengthOverall', 'Application Status'],\n",
            "      dtype='object')\n",
            "Columns in Test Data: Index(['UID', 'DEALER ID', 'APPLICATION LOGIN DATE', 'HDB BRANCH NAME',\n",
            "       'HDB BRANCH STATE', 'FIRST NAME', 'MIDDLE NAME', 'LAST NAME', 'mobile',\n",
            "       'AADHAR VERIFIED', 'Cibil Score', 'MOBILE VERIFICATION', 'DEALER NAME',\n",
            "       'TOTAL ASSET COST', 'ASSET CTG', 'ASSET MODEL NO', 'APPLIED AMOUNT',\n",
            "       'PRIMARY ASSET MAKE', 'Primary Asset Model No',\n",
            "       'Personal Email Address', 'MARITAL STATUS', 'GENDER', 'DOB', 'AGE',\n",
            "       'ADDRESS TYPE', 'EMPLOY CONSTITUTION', 'EMPLOYER NAME', 'EMPLOYER TYPE',\n",
            "       'Pan Name', 'name', 'vpa', 'upi_name', 'Phone Social Premium.a23games',\n",
            "       'Phone Social Premium.amazon', 'Phone Social Premium.byjus',\n",
            "       'Phone Social Premium.flipkart', 'Phone Social Premium.housing',\n",
            "       'Phone Social Premium.indiamart', 'Phone Social Premium.instagram',\n",
            "       'Phone Social Premium.isWABusiness',\n",
            "       'Phone Social Premium.jeevansaathi', 'Phone Social Premium.jiomart',\n",
            "       'Phone Social Premium.microsoft', 'Phone Social Premium.my11',\n",
            "       'Phone Social Premium.paytm', 'Phone Social Premium.rummycircle',\n",
            "       'Phone Social Premium.shaadi', 'Phone Social Premium.skype',\n",
            "       'Phone Social Premium.toi', 'Phone Social Premium.whatsapp',\n",
            "       'Phone Social Premium.yatra', 'Phone Social Premium.zoho',\n",
            "       'phone_digitalage', 'phone_nameMatchScore',\n",
            "       'phone_phoneFootprintStrengthOverall'],\n",
            "      dtype='object')\n"
          ]
        }
      ]
    },
    {
      "cell_type": "code",
      "source": [
        "# Splitting data into features and target\n",
        "X = train_data.drop(['Application Status'], axis=1)\n",
        "y = train_data['Application Status']\n",
        "\n",
        "# Remove 'Application Status' from the preprocessor's column list\n",
        "for i, transformer in enumerate(preprocessor.transformers):\n",
        "    if isinstance(transformer[2], list) and 'Application Status' in transformer[2]:\n",
        "        preprocessor.transformers[i][2].remove('Application Status')\n",
        "\n",
        "X_preprocessed = preprocessor.fit_transform(X)\n",
        "X_test_preprocessed = preprocessor.transform(test_data)  # Do not drop 'Application Status' here\n",
        "\n",
        "# Splitting the preprocessed data into training and validation sets\n",
        "X_train, X_val, y_train, y_val = train_test_split(X_preprocessed, y, test_size=0.2, random_state=42)\n",
        "\n",
        "# Training a Random Forest Classifier\n",
        "rf_classifier = RandomForestClassifier(n_estimators=100, random_state=42)\n",
        "rf_classifier.fit(X_train, y_train)\n",
        "\n",
        "# Evaluating the model\n",
        "y_pred = rf_classifier.predict(X_val)\n",
        "print(\"Accuracy on Validation Set:\", accuracy_score(y_val, y_pred))\n",
        "print(\"Classification Report:\\n\", classification_report(y_val, y_pred))\n",
        "\n",
        "# Predicting on the test set\n",
        "test_predictions = rf_classifier.predict(X_test_preprocessed)\n",
        "\n",
        "output = pd.DataFrame({'UID': test_data['UID'], 'Application Status': test_predictions})\n",
        "output.to_csv('/content/drive/MyDrive/Datasets/Loan_Application_Predictions.csv', index=False)\n",
        "\n",
        "print(\"Predictions for the test set saved successfully.\")"
      ],
      "metadata": {
        "colab": {
          "base_uri": "https://localhost:8080/"
        },
        "id": "6S8LFCHlctdq",
        "outputId": "cbeb6797-415b-4049-ccda-e6b55b74114e"
      },
      "execution_count": 42,
      "outputs": [
        {
          "output_type": "stream",
          "name": "stdout",
          "text": [
            "Accuracy on Validation Set: 0.83\n",
            "Classification Report:\n",
            "               precision    recall  f1-score   support\n",
            "\n",
            "    APPROVED       0.98      0.76      0.86      1327\n",
            "    DECLINED       0.67      0.97      0.79       673\n",
            "\n",
            "    accuracy                           0.83      2000\n",
            "   macro avg       0.83      0.87      0.82      2000\n",
            "weighted avg       0.88      0.83      0.83      2000\n",
            "\n",
            "Predictions for the test set saved successfully.\n"
          ]
        }
      ]
    },
    {
      "cell_type": "code",
      "execution_count": null,
      "metadata": {
        "colab": {
          "base_uri": "https://localhost:8080/"
        },
        "id": "UiGOoxAYSe0u",
        "outputId": "c77a7e52-28da-484e-858a-f66d639c4e2d"
      },
      "outputs": [
        {
          "output_type": "stream",
          "name": "stdout",
          "text": [
            "Training data shape: (8000, 54)\n",
            "Validation data shape: (2000, 54)\n"
          ]
        }
      ],
      "source": [
        "import pandas as pd\n",
        "from sklearn.model_selection import train_test_split\n",
        "from sklearn.preprocessing import LabelEncoder, MinMaxScaler\n",
        "from sklearn.impute import SimpleImputer\n",
        "\n",
        "# Load the datasets\n",
        "train_data = pd.read_csv('/content/drive/MyDrive/Datasets/Assignment_Train.csv')\n",
        "\n",
        "# Define label encoder, imputers, and scaler\n",
        "label_encoder = LabelEncoder()\n",
        "num_imputer = SimpleImputer(strategy='median')\n",
        "cat_imputer = SimpleImputer(strategy='most_frequent')\n",
        "scaler = MinMaxScaler()\n",
        "\n",
        "# Prepare the feature matrix and target vector\n",
        "X = train_data.drop(['Application Status'], axis=1)  # Drop the target variable\n",
        "y = label_encoder.fit_transform(train_data['Application Status'])  # Encode the target variable\n",
        "\n",
        "# Preprocess the data: Impute, Encode, and Scale\n",
        "for column in X.columns:\n",
        "    if X[column].dtype == 'object':  # Handling categorical data\n",
        "        X[column] = X[column].astype(str)  # Convert column to string type\n",
        "        imputed_data = cat_imputer.fit_transform(X[column].values.reshape(-1, 1))\n",
        "        X[column] = label_encoder.fit_transform(imputed_data.ravel())  # Flatten the 2D array to 1D before encoding\n",
        "    else:  # Handling numerical data\n",
        "        X[column] = X[column].astype(float)  # Ensure numerical data is float type\n",
        "        X[column] = num_imputer.fit_transform(X[column].values.reshape(-1, 1))\n",
        "        X[column] = scaler.fit_transform(X[column].values.reshape(-1, 1))\n",
        "\n",
        "# Split the data into train and validation sets\n",
        "X_train, X_val, y_train, y_val = train_test_split(X, y, test_size=0.2, random_state=42)\n",
        "\n",
        "# Check the shapes of the resulting datasets\n",
        "print(\"Training data shape:\", X_train.shape)\n",
        "print(\"Validation data shape:\", X_val.shape)"
      ]
    },
    {
      "cell_type": "code",
      "source": [
        "from sklearn.model_selection import train_test_split\n",
        "\n",
        "# Use the existing feature matrix X\n",
        "X_train, X_test, y_train, y_test = train_test_split(X, y, test_size=0.2, random_state=42)\n",
        "\n",
        "# Assuming you have a model already trained, you'd get predictions like this:\n",
        "predictions = best_rf_classifier.predict(X_test)\n",
        "\n",
        "# Now you can use y_test and predictions to compute metrics"
      ],
      "metadata": {
        "id": "ajWHC4pYatDB"
      },
      "execution_count": 28,
      "outputs": []
    },
    {
      "cell_type": "code",
      "source": [
        "from sklearn.ensemble import RandomForestClassifier\n",
        "from sklearn.metrics import classification_report, accuracy_score\n",
        "\n",
        "# Instantiate the model\n",
        "rf_classifier = RandomForestClassifier(n_estimators=100, random_state=42)\n",
        "\n",
        "# Train the model\n",
        "rf_classifier.fit(X_train, y_train)\n",
        "\n",
        "# Predict on the validation set\n",
        "y_pred = rf_classifier.predict(X_val)\n",
        "\n",
        "# Evaluate the model\n",
        "accuracy = accuracy_score(y_val, y_pred)\n",
        "classification_rep = classification_report(y_val, y_pred)\n",
        "\n",
        "accuracy, classification_rep"
      ],
      "metadata": {
        "colab": {
          "base_uri": "https://localhost:8080/"
        },
        "id": "E-ZgWe-QWkfj",
        "outputId": "940ac6be-7b53-46dd-bf3e-172be0cf3f4e"
      },
      "execution_count": null,
      "outputs": [
        {
          "output_type": "execute_result",
          "data": {
            "text/plain": [
              "(0.8805,\n",
              " '              precision    recall  f1-score   support\\n\\n           0       0.91      0.91      0.91      1327\\n           1       0.82      0.82      0.82       673\\n\\n    accuracy                           0.88      2000\\n   macro avg       0.87      0.87      0.87      2000\\nweighted avg       0.88      0.88      0.88      2000\\n')"
            ]
          },
          "metadata": {},
          "execution_count": 7
        }
      ]
    },
    {
      "cell_type": "code",
      "source": [
        "from sklearn.model_selection import GridSearchCV\n",
        "\n",
        "# Define the parameter grid\n",
        "param_grid = {\n",
        "    'n_estimators': [100, 200],\n",
        "    'max_depth': [10, 20, None],\n",
        "    'min_samples_split': [2, 5]\n",
        "}\n",
        "\n",
        "# Create the GridSearchCV object\n",
        "grid_search = GridSearchCV(estimator=RandomForestClassifier(random_state=42), param_grid=param_grid, cv=3, verbose=2, n_jobs=-1)\n",
        "\n",
        "# Fit GridSearch to the data\n",
        "grid_search.fit(X_train, y_train)\n",
        "\n",
        "# Best parameters and best score\n",
        "print(\"Best parameters found: \", grid_search.best_params_)\n",
        "print(\"Best score achieved: \", grid_search.best_score_)"
      ],
      "metadata": {
        "colab": {
          "base_uri": "https://localhost:8080/"
        },
        "id": "RP5kw5NKWusk",
        "outputId": "79768de7-5b9e-4737-99f3-a55c5617e607"
      },
      "execution_count": null,
      "outputs": [
        {
          "output_type": "stream",
          "name": "stdout",
          "text": [
            "Fitting 3 folds for each of 12 candidates, totalling 36 fits\n",
            "Best parameters found:  {'max_depth': 20, 'min_samples_split': 2, 'n_estimators': 200}\n",
            "Best score achieved:  0.8847496369780484\n"
          ]
        }
      ]
    },
    {
      "cell_type": "code",
      "source": [
        "# Assuming rf_classifier is a Random Forest model fitted with the best parameters found from Grid Search\n",
        "best_rf_classifier = grid_search.best_estimator_\n",
        "\n",
        "# Get feature importances\n",
        "importances = best_rf_classifier.feature_importances_\n",
        "\n",
        "# Summarize feature importances in a DataFrame\n",
        "feature_importances = pd.DataFrame({'feature': X_train.columns, 'importance': importances})\n",
        "feature_importances = feature_importances.sort_values(by='importance', ascending=False)\n",
        "\n",
        "# Display\n",
        "print(feature_importances.head())"
      ],
      "metadata": {
        "colab": {
          "base_uri": "https://localhost:8080/"
        },
        "id": "1fIOqx-IXFT3",
        "outputId": "b4235fef-325d-4a07-f6d6-9182caee62dd"
      },
      "execution_count": null,
      "outputs": [
        {
          "output_type": "stream",
          "name": "stdout",
          "text": [
            "                feature  importance\n",
            "9           Cibil Score    0.161850\n",
            "24  EMPLOY CONSTITUTION    0.104209\n",
            "26        EMPLOYER TYPE    0.098030\n",
            "13            ASSET CTG    0.086411\n",
            "19       MARITAL STATUS    0.085756\n"
          ]
        }
      ]
    },
    {
      "cell_type": "code",
      "source": [
        "import pandas as pd\n",
        "from sklearn.preprocessing import MinMaxScaler, LabelEncoder\n",
        "from sklearn.impute import SimpleImputer\n",
        "\n",
        "# Load the test data\n",
        "test_data = pd.read_csv('/content/drive/MyDrive/Datasets/Assignment_Test.csv')\n",
        "\n",
        "# Define imputers and scaler\n",
        "num_imputer = SimpleImputer(strategy='median', fill_value=0)  # Using fill_value for numerical columns\n",
        "cat_imputer = SimpleImputer(strategy='constant', fill_value='missing')  # Using constant strategy for categorical\n",
        "scaler = MinMaxScaler()\n",
        "\n",
        "# Assume label_encoders are properly set up and loaded from training phase\n",
        "# label_encoders = {column: LabelEncoder() for column in train_data.columns if train_data[column].dtype == 'object'}\n",
        "\n",
        "def preprocess_data(data):\n",
        "    for column in data.columns:\n",
        "        if data[column].dtype == 'object' or isinstance(data[column].dtype, str):  # Handling categorical columns\n",
        "            # Convert to string, reshape, impute missing values, and encode\n",
        "            transformed_data = cat_imputer.fit_transform(data[column].astype(str).values.reshape(-1, 1))\n",
        "            transformed_data = transformed_data.ravel()  # Flatten the array correctly\n",
        "            # Use the LabelEncoder for this column if it exists\n",
        "            if column in label_encoders:\n",
        "                data[column] = label_encoders[column].transform(transformed_data)\n",
        "            else:\n",
        "                data[column] = transformed_data  # This case shouldn't happen; it's just in case\n",
        "        else:  # Handling numerical columns\n",
        "            if data[column].isna().all():\n",
        "                data[column] = pd.Series([0]*len(data))  # Replace all NaNs with 0 if the entire column is NaN\n",
        "            else:\n",
        "                transformed_data = num_imputer.fit_transform(data[column].values.reshape(-1, 1))\n",
        "                data[column] = scaler.fit_transform(transformed_data).ravel()  # Reshape for scaling and flatten afterwards\n",
        "    return data\n",
        "\n",
        "# Preprocess the test data\n",
        "X_test = preprocess_data(test_data.copy())"
      ],
      "metadata": {
        "id": "TaGIxotdXOOP"
      },
      "execution_count": null,
      "outputs": []
    },
    {
      "cell_type": "code",
      "source": [
        "# Load your test data (reloading if necessary)\n",
        "test_data = pd.read_csv('/content/drive/MyDrive/Datasets/Assignment_Test.csv')\n",
        "\n",
        "# Print out the column names\n",
        "print(\"Columns in the dataset:\", test_data.columns)\n",
        "\n",
        "# Optionally, you can also display the first few rows to check the data format\n",
        "print(test_data.head())"
      ],
      "metadata": {
        "colab": {
          "base_uri": "https://localhost:8080/"
        },
        "id": "T3RY_yLHZIp1",
        "outputId": "935580fa-0999-4ba4-9444-460aadb668ef"
      },
      "execution_count": null,
      "outputs": [
        {
          "output_type": "stream",
          "name": "stdout",
          "text": [
            "Columns in the dataset: Index(['UID', 'DEALER ID', 'APPLICATION LOGIN DATE', 'HDB BRANCH NAME',\n",
            "       'HDB BRANCH STATE', 'FIRST NAME', 'MIDDLE NAME', 'LAST NAME', 'mobile',\n",
            "       'AADHAR VERIFIED', 'Cibil Score', 'MOBILE VERIFICATION', 'DEALER NAME',\n",
            "       'TOTAL ASSET COST', 'ASSET CTG', 'ASSET MODEL NO', 'APPLIED AMOUNT',\n",
            "       'PRIMARY ASSET MAKE', 'Primary Asset Model No',\n",
            "       'Personal Email Address', 'MARITAL STATUS', 'GENDER', 'DOB', 'AGE',\n",
            "       'ADDRESS TYPE', 'EMPLOY CONSTITUTION', 'EMPLOYER NAME', 'EMPLOYER TYPE',\n",
            "       'Pan Name', 'name', 'vpa', 'upi_name', 'Phone Social Premium.a23games',\n",
            "       'Phone Social Premium.amazon', 'Phone Social Premium.byjus',\n",
            "       'Phone Social Premium.flipkart', 'Phone Social Premium.housing',\n",
            "       'Phone Social Premium.indiamart', 'Phone Social Premium.instagram',\n",
            "       'Phone Social Premium.isWABusiness',\n",
            "       'Phone Social Premium.jeevansaathi', 'Phone Social Premium.jiomart',\n",
            "       'Phone Social Premium.microsoft', 'Phone Social Premium.my11',\n",
            "       'Phone Social Premium.paytm', 'Phone Social Premium.rummycircle',\n",
            "       'Phone Social Premium.shaadi', 'Phone Social Premium.skype',\n",
            "       'Phone Social Premium.toi', 'Phone Social Premium.whatsapp',\n",
            "       'Phone Social Premium.yatra', 'Phone Social Premium.zoho',\n",
            "       'phone_digitalage', 'phone_nameMatchScore',\n",
            "       'phone_phoneFootprintStrengthOverall'],\n",
            "      dtype='object')\n",
            "                   UID  DEALER ID APPLICATION LOGIN DATE HDB BRANCH NAME  \\\n",
            "0  1844045271814558464     105615               07/12/22        HUBLI-SF   \n",
            "1  1840349097823778816      91593             07/14/2022        SATNA-SF   \n",
            "2  1488102613362294272      74152               07/07/22      LUCKNOW-SF   \n",
            "3   555529923942874624     110164             07/13/2022       KOLLAM-SF   \n",
            "4  1010213070486150912     113037               07/08/22         PURI-SF   \n",
            "\n",
            "  HDB BRANCH STATE FIRST NAME MIDDLE NAME   LAST NAME      mobile  \\\n",
            "0              NaN  VENUGOPAL           H  BHARADHVAJ  7019759674   \n",
            "1   MADHYA PRADESH   SHIVDHAR         NaN   CHAUDHARY  7697884828   \n",
            "2    UTTAR PRADESH     MANISH         NaN       VERMA  8840079825   \n",
            "3           KERALA      DEEPU  RAVEENDRAN  RAVEENDRAN  8089276854   \n",
            "4           ORISSA     AKASHA         NaN     PRADHAN  9337511958   \n",
            "\n",
            "  AADHAR VERIFIED  ... Phone Social Premium.rummycircle  \\\n",
            "0              NO  ...                              NaN   \n",
            "1              NO  ...                              NaN   \n",
            "2              NO  ...                              NaN   \n",
            "3              NO  ...                              NaN   \n",
            "4              NO  ...                              NaN   \n",
            "\n",
            "   Phone Social Premium.shaadi Phone Social Premium.skype  \\\n",
            "0                          0.0                        0.0   \n",
            "1                          0.0                        0.0   \n",
            "2                          0.0                        1.0   \n",
            "3                          0.0                        0.0   \n",
            "4                          0.0                        0.0   \n",
            "\n",
            "   Phone Social Premium.toi Phone Social Premium.whatsapp  \\\n",
            "0                       0.0                           0.0   \n",
            "1                       NaN                           0.0   \n",
            "2                       0.0                           1.0   \n",
            "3                       0.0                           NaN   \n",
            "4                       0.0                           NaN   \n",
            "\n",
            "   Phone Social Premium.yatra  Phone Social Premium.zoho phone_digitalage  \\\n",
            "0                         NaN                        0.0              676   \n",
            "1                         NaN                        0.0              897   \n",
            "2                         NaN                        0.0              839   \n",
            "3                         NaN                        0.0             2050   \n",
            "4                         NaN                        0.0               -1   \n",
            "\n",
            "  phone_nameMatchScore phone_phoneFootprintStrengthOverall  \n",
            "0                100.0                              Medium  \n",
            "1                 -1.0                                 Low  \n",
            "2                100.0                              Medium  \n",
            "3                 -1.0                                 Low  \n",
            "4                 -1.0                            Very Low  \n",
            "\n",
            "[5 rows x 55 columns]\n"
          ]
        }
      ]
    },
    {
      "cell_type": "code",
      "source": [
        "if 'Date' in test_data.columns:  # Only process if 'Date' exists\n",
        "    test_data['Date'] = pd.to_datetime(test_data['Date'], format='%d/%m/%y')\n",
        "    test_data['Year'] = test_data['Date'].dt.year\n",
        "    test_data['Month'] = test_data['Date'].dt.month\n",
        "    test_data['Day'] = test_data['Date'].dt.day\n",
        "    test_data.drop('Date', axis=1, inplace=True)\n",
        "else:\n",
        "    print(\"No 'Date' column found. Proceeding without date processing.\")\n",
        "\n",
        "# Ensure the column names match the trained model's features\n",
        "train_columns = list(best_rf_classifier.feature_names_in_)\n",
        "X_test = test_data.reindex(columns=train_columns).fillna(0)  # Fill missing with defaults\n",
        "\n",
        "# Predict using the trained model\n",
        "predictions = best_rf_classifier.predict(X_test)\n",
        "\n",
        "# Save or output predictions\n",
        "output = pd.DataFrame({'Application_ID': test_data['Application_ID'], 'Predicted_Status': predictions})\n",
        "output.to_csv('/content/drive/MyDrive/Datasets/Assignment_Predictions.csv', index=False)\n",
        "\n",
        "print(\"Predictions saved successfully.\")"
      ],
      "metadata": {
        "colab": {
          "base_uri": "https://localhost:8080/"
        },
        "id": "MQkjWQsnZKXl",
        "outputId": "9ff96138-ee8a-4332-fab1-24e19308e28b"
      },
      "execution_count": null,
      "outputs": [
        {
          "output_type": "stream",
          "name": "stdout",
          "text": [
            "Predictions saved successfully.\n"
          ]
        }
      ]
    },
    {
      "cell_type": "code",
      "source": [
        "from sklearn.metrics import accuracy_score, precision_score, recall_score, f1_score, roc_auc_score, confusion_matrix\n",
        "\n",
        "\n",
        "# Calculate metrics\n",
        "accuracy = accuracy_score(y_test, predictions)\n",
        "precision = precision_score(y_test, predictions, average='binary')  # Use 'binary' for binary classification\n",
        "recall = recall_score(y_test, predictions, average='binary')\n",
        "f1 = f1_score(y_test, predictions, average='binary')\n",
        "roc_auc = roc_auc_score(y_test, predictions)  # This requires the probabilities rather than binary predictions if you want to use it\n",
        "\n",
        "# Display metrics\n",
        "print(\"Accuracy:\", accuracy)\n",
        "print(\"Precision:\", precision)\n",
        "print(\"Recall:\", recall)\n",
        "print(\"F1 Score:\", f1)\n",
        "print(\"ROC AUC Score:\", roc_auc)\n",
        "\n",
        "# Confusion Matrix\n",
        "conf_matrix = confusion_matrix(y_test, predictions)\n",
        "print(\"Confusion Matrix:\\n\", conf_matrix)"
      ],
      "metadata": {
        "colab": {
          "base_uri": "https://localhost:8080/"
        },
        "id": "Qudmxi9AZnkK",
        "outputId": "24148b69-3b14-40ee-b677-bab85b5606db"
      },
      "execution_count": 29,
      "outputs": [
        {
          "output_type": "stream",
          "name": "stdout",
          "text": [
            "Accuracy: 0.8865\n",
            "Precision: 0.8358433734939759\n",
            "Recall: 0.8246656760772659\n",
            "F1 Score: 0.8302169035153327\n",
            "ROC AUC Score: 0.8712627551448877\n",
            "Confusion Matrix:\n",
            " [[1218  109]\n",
            " [ 118  555]]\n"
          ]
        }
      ]
    },
    {
      "cell_type": "code",
      "source": [
        "import seaborn as sns\n",
        "import matplotlib.pyplot as plt\n",
        "\n",
        "sns.heatmap(conf_matrix, annot=True, fmt='d', cmap='Blues', xticklabels=['Rejected', 'Approved'], yticklabels=['Rejected', 'Approved'])\n",
        "plt.title('Confusion Matrix')\n",
        "plt.xlabel('Predicted Label')\n",
        "plt.ylabel('True Label')\n",
        "plt.show()"
      ],
      "metadata": {
        "colab": {
          "base_uri": "https://localhost:8080/",
          "height": 472
        },
        "id": "41RQX9Wsa7Dk",
        "outputId": "809804e1-cbd2-4f69-d24c-3f3d4a6cb7cb"
      },
      "execution_count": 30,
      "outputs": [
        {
          "output_type": "display_data",
          "data": {
            "text/plain": [
              "<Figure size 640x480 with 2 Axes>"
            ],
            "image/png": "[encoded data removed]"
          },
          "metadata": {}
        }
      ]
    },
    {
      "cell_type": "code",
      "source": [
        "from sklearn.metrics import roc_curve\n",
        "\n",
        "# Calculate probabilities for the positive class (assuming class 1 is positive)\n",
        "prob_predictions = best_rf_classifier.predict_proba(X_test)[:, 1]\n",
        "\n",
        "fpr, tpr, thresholds = roc_curve(y_test, prob_predictions)\n",
        "\n",
        "plt.figure()\n",
        "plt.plot(fpr, tpr, label='ROC curve (area = %0.2f)' % roc_auc)\n",
        "plt.plot([0, 1], [0, 1], 'k--')\n",
        "plt.xlim([0.0, 1.0])\n",
        "plt.ylim([0.0, 1.05])\n",
        "plt.xlabel('False Positive Rate')\n",
        "plt.ylabel('True Positive Rate')\n",
        "plt.title('Receiver Operating Characteristic')\n",
        "plt.legend(loc=\"lower right\")\n",
        "plt.show()"
      ],
      "metadata": {
        "id": "qxl21h7qa3wy",
        "colab": {
          "base_uri": "https://localhost:8080/",
          "height": 472
        },
        "outputId": "3ea826e9-7f98-4c32-c10b-818ab76f7d44"
      },
      "execution_count": 32,
      "outputs": [
        {
          "output_type": "display_data",
          "data": {
            "text/plain": [
              "<Figure size 640x480 with 1 Axes>"
            ],
            "image/png": "[encoded data removed]"
          },
          "metadata": {}
        }
      ]
    }
  ]
}